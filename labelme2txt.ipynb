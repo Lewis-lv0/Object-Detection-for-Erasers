{
 "metadata": {
  "language_info": {
   "codemirror_mode": {
    "name": "ipython",
    "version": 3
   },
   "file_extension": ".py",
   "mimetype": "text/x-python",
   "name": "python",
   "nbconvert_exporter": "python",
   "pygments_lexer": "ipython3",
   "version": "3.7.0"
  },
  "orig_nbformat": 4,
  "kernelspec": {
   "name": "python3",
   "display_name": "Python 3.7.0 64-bit ('base': conda)"
  },
  "interpreter": {
   "hash": "f27be61d6b540f44e29c3e7f91f8c96bdd674c5094245872880942eaa96bff8d"
  }
 },
 "nbformat": 4,
 "nbformat_minor": 2,
 "cells": [
  {
   "cell_type": "markdown",
   "source": [
    "# Convert labelme output (json) to yolov5 input (txt)\n",
    "Author: Yixing\n",
    "Date: 2021-07-19 18:17:53\n",
    "Software: VS Code"
   ],
   "metadata": {}
  },
  {
   "cell_type": "code",
   "execution_count": 1,
   "source": [
    "import os\r\n",
    "import numpy as np\r\n",
    "import json\r\n",
    "from glob import glob\r\n",
    "import cv2\r\n",
    "from sklearn.model_selection import train_test_split\r\n",
    "from os import getcwd\r\n",
    "import shutil\r\n",
    " \r\n",
    "classes = ['eraser']"
   ],
   "outputs": [],
   "metadata": {}
  },
  {
   "cell_type": "code",
   "execution_count": 3,
   "source": [
    "# the dir of labels\r\n",
    "labelme_path = \"dataset\\\\annotation_yolo\\\\\"\r\n",
    "raw_img_path = 'dataset\\\\raw imgs\\\\'\r\n",
    "\r\n",
    "isUseTest = False  # 是否创建test集\r\n",
    "\r\n",
    "# get all json label files\r\n",
    "files = glob(labelme_path + \"*.json\")\r\n",
    "files = [i.replace(\"\\\\\", \"/\").split(\"/\")[-1].split(\".json\")[0] for i in files]\r\n",
    "len(files)"
   ],
   "outputs": [
    {
     "output_type": "execute_result",
     "data": {
      "text/plain": [
       "51"
      ]
     },
     "metadata": {},
     "execution_count": 3
    }
   ],
   "metadata": {}
  },
  {
   "cell_type": "code",
   "execution_count": 11,
   "source": [
    "# split train/val and test set\r\n",
    "if isUseTest:\r\n",
    "    trainval_files, test_files = train_test_split(files, test_size=0.1, random_state=55)\r\n",
    "else:\r\n",
    "    trainval_files = files"
   ],
   "outputs": [],
   "metadata": {}
  },
  {
   "cell_type": "code",
   "execution_count": 12,
   "source": [
    "# split train and val set\r\n",
    "train_files, val_files = train_test_split(trainval_files, test_size=0.1, random_state=55)"
   ],
   "outputs": [],
   "metadata": {}
  },
  {
   "cell_type": "code",
   "execution_count": 13,
   "source": [
    "def convert(size, box):\r\n",
    "    dw = 1. / (size[0])\r\n",
    "    dh = 1. / (size[1])\r\n",
    "    x = (box[0] + box[1]) / 2.0 - 1\r\n",
    "    y = (box[2] + box[3]) / 2.0 - 1\r\n",
    "    w = box[1] - box[0]\r\n",
    "    h = box[3] - box[2]\r\n",
    "    x = x * dw\r\n",
    "    w = w * dw\r\n",
    "    y = y * dh\r\n",
    "    h = h * dh\r\n",
    "    return (x, y, w, h)"
   ],
   "outputs": [],
   "metadata": {}
  },
  {
   "cell_type": "code",
   "execution_count": 14,
   "source": [
    "wd = getcwd()\r\n",
    "print(wd)"
   ],
   "outputs": [
    {
     "output_type": "stream",
     "name": "stdout",
     "text": [
      "c:\\Users\\Luyixing\\Documents\\2021intern\\proj_mask_rcnn\n"
     ]
    }
   ],
   "metadata": {}
  },
  {
   "cell_type": "code",
   "execution_count": 17,
   "source": [
    "def ChangeToYolo5(files, txt_Name):\r\n",
    "    if not os.path.exists('tmp/'):\r\n",
    "        os.makedirs('tmp/')\r\n",
    "    list_file = open('tmp/%s.txt' % (txt_Name), 'w') # open the dir and create txt files\r\n",
    "    for json_file_ in files:\r\n",
    "        json_filename = labelme_path + json_file_ + \".json\" # json file path\r\n",
    "        imagePath = raw_img_path + json_file_ + \".jpg\" # raw image file path\r\n",
    "        list_file.write('%s\\\\%s\\n' % (wd, imagePath))\r\n",
    "        out_file = open('%s\\\\%s.txt' % (labelme_path, json_file_), 'w') # path to txt (create txt)\r\n",
    "        json_file = json.load(open(json_filename, \"r\", encoding=\"utf-8\"))\r\n",
    "        height, width, channels = cv2.imread(raw_img_path + json_file_ + \".jpg\").shape\r\n",
    "        for multi in json_file[\"shapes\"]:\r\n",
    "            points = np.array(multi[\"points\"])\r\n",
    "            xmin = min(points[:, 0]) if min(points[:, 0]) > 0 else 0\r\n",
    "            xmax = max(points[:, 0]) if max(points[:, 0]) > 0 else 0\r\n",
    "            ymin = min(points[:, 1]) if min(points[:, 1]) > 0 else 0\r\n",
    "            ymax = max(points[:, 1]) if max(points[:, 1]) > 0 else 0\r\n",
    "            label = multi[\"label\"]\r\n",
    "            if xmax <= xmin:\r\n",
    "                pass\r\n",
    "            elif ymax <= ymin:\r\n",
    "                pass\r\n",
    "            else:\r\n",
    "                cls_id = classes.index(label)\r\n",
    "                b = (float(xmin), float(xmax), float(ymin), float(ymax))\r\n",
    "                bb = convert((width, height), b)\r\n",
    "                out_file.write(str(cls_id) + \" \" + \" \".join([str(a) for a in bb]) + '\\n')\r\n",
    "                print(json_filename, xmin, ymin, xmax, ymax, cls_id)"
   ],
   "outputs": [],
   "metadata": {}
  },
  {
   "cell_type": "code",
   "execution_count": 18,
   "source": [
    "ChangeToYolo5(train_files, \"train\")\r\n",
    "ChangeToYolo5(val_files, \"val\")\r\n",
    "ChangeToYolo5(test_files, \"test\")"
   ],
   "outputs": [
    {
     "output_type": "stream",
     "name": "stdout",
     "text": [
      "dataset\\annotation_yolo\\00026.json 49.25 202.375 938.625 748.0 0\n",
      "dataset\\annotation_yolo\\00011.json 87.75700934579436 214.9532710280374 1443.8317757009345 1181.3084112149531 0\n",
      "dataset\\annotation_yolo\\00005.json 312.51282051282055 754.2564102564103 1733.025641025641 1294.0 0\n",
      "dataset\\annotation_yolo\\00034.json 31.568345323741 12.949640287769778 180.69475847893113 81.80883864337102 0\n",
      "dataset\\annotation_yolo\\00034.json 31.362795477903404 80.06166495375128 181.20863309352518 148.5097636176773 0\n",
      "dataset\\annotation_yolo\\00029.json 24.0 214.5 231.5 447.0 0\n",
      "dataset\\annotation_yolo\\00029.json 275.0 189.0 478.0 408.5 0\n",
      "dataset\\annotation_yolo\\00029.json 502.0 254.5 740.5 442.0 0\n",
      "dataset\\annotation_yolo\\00029.json 490.0 475.0 720.0 650.5 0\n",
      "dataset\\annotation_yolo\\00032.json 51.450980392156865 101.08932461873638 296.76688453159045 256.2091503267974 0\n",
      "dataset\\annotation_yolo\\00019.json 331.25 676.0 1662.5 1172.25 0\n",
      "dataset\\annotation_yolo\\00012.json 96.16822429906534 346.7289719626168 1386.8224299065419 1157.943925233645 0\n",
      "dataset\\annotation_yolo\\00041.json 51.6822429906542 114.95327102803742 422.398753894081 361.68224299065423 0\n",
      "dataset\\annotation_yolo\\00040.json 170.5 229.0 640.5 580.5 0\n",
      "dataset\\annotation_yolo\\00016.json 33.55140186915884 272.8971962616822 1354.1121495327102 1104.6728971962616 0\n",
      "dataset\\annotation_yolo\\00018.json 1414.6470588235293 948.764705882353 3097.0 2087.9803921568628 0\n",
      "dataset\\annotation_yolo\\00048.json 8.16905444126074 142.69340974212034 307.88252148997134 410.6017191977077 0\n",
      "dataset\\annotation_yolo\\00048.json 155.73352435530086 22.636103151862464 457.1661891117478 280.2292263610315 0\n",
      "dataset\\annotation_yolo\\00033.json 12.0 47.5 475.5 387.0 0\n",
      "dataset\\annotation_yolo\\00033.json 252.5 350.0 799.0 725.0 0\n",
      "dataset\\annotation_yolo\\00009.json 64.83458646616555 229.8345864661655 1125.7368421052631 922.3157894736842 0\n",
      "dataset\\annotation_yolo\\00049.json 18.660436137071656 159.19003115264798 452.9283489096573 423.0529595015576 0\n",
      "dataset\\annotation_yolo\\00031.json 55.09345794392519 140.65420560747663 720.9813084112149 645.3271028037383 0\n",
      "dataset\\annotation_yolo\\00044.json 56.5 187.5 736.0 717.5 0\n",
      "dataset\\annotation_yolo\\00023.json 292.6541353383458 580.2105263157895 712.9548872180451 952.390977443609 0\n",
      "dataset\\annotation_yolo\\00008.json 44.28985507246364 35.27536231884051 1752.9855072463765 1464.2608695652173 0\n",
      "dataset\\annotation_yolo\\00046.json 176.65042979942695 166.189111747851 429.65902578796556 344.9856733524355 0\n",
      "dataset\\annotation_yolo\\00046.json 36.535816618911156 126.64756446991403 272.0659025787965 295.4154727793696 0\n",
      "dataset\\annotation_yolo\\00043.json 312.5 334.0 624.5 525.0 0\n",
      "dataset\\annotation_yolo\\00036.json 39.269461077844326 132.03592814371257 268.9101796407186 242.51497005988026 0\n",
      "dataset\\annotation_yolo\\00036.json 232.68263473053895 79.34131736526946 454.83832335329345 185.92814371257487 0\n",
      "dataset\\annotation_yolo\\00036.json 377.29341317365265 202.69461077844312 616.5149700598803 314.6706586826347 0\n",
      "dataset\\annotation_yolo\\00036.json 169.20958083832335 255.08982035928148 404.23952095808386 365.2694610778443 0\n",
      "dataset\\annotation_yolo\\00025.json 10.719178082191767 40.582191780821915 288.45890410958907 156.84931506849315 0\n",
      "dataset\\annotation_yolo\\00025.json 142.56849315068493 123.02739726027394 362.26027397260276 234.58904109589042 0\n",
      "dataset\\annotation_yolo\\00017.json 657.4166666666667 196.47222222222217 1411.5833333333335 616.6111111111111 0\n",
      "dataset\\annotation_yolo\\00010.json 388.6666666666667 169.91666666666666 1188.6666666666667 674.0833333333334 0\n",
      "dataset\\annotation_yolo\\00038.json 75.61423220973788 255.43071161048692 311.19475655430716 375.6554307116105 0\n",
      "dataset\\annotation_yolo\\00038.json 366.2509363295881 129.2134831460674 472.9925093632959 338.2022471910112 0\n",
      "dataset\\annotation_yolo\\00038.json 195.08988764044955 326.21722846441946 440.40823970037457 476.40449438202245 0\n",
      "dataset\\annotation_yolo\\00030.json 46.0 129.0 768.5 660.5 0\n",
      "dataset\\annotation_yolo\\00013.json 238.75 407.25 1502.5 1393.5 0\n",
      "dataset\\annotation_yolo\\00024.json 59.41048034934502 126.20087336244546 627.5327510917031 572.4890829694323 0\n",
      "dataset\\annotation_yolo\\00035.json 0.2823218997361465 9.102902374670183 97.64379947229551 132.0580474934037 0\n",
      "dataset\\annotation_yolo\\00035.json 97.90765171503958 1.187335092348285 166.50923482849603 110.8179419525066 0\n",
      "dataset\\annotation_yolo\\00035.json 166.50923482849603 10.026385224274417 268.4881266490765 133.24538258575197 0\n",
      "dataset\\annotation_yolo\\00035.json 74.688654353562 135.09234828496042 202.0 211.0 0\n",
      "dataset\\annotation_yolo\\00050.json 4.5 149.5 513.0 688.0 0\n",
      "dataset\\annotation_yolo\\00050.json 514.5 132.5 734.5 708.5 0\n",
      "dataset\\annotation_yolo\\00042.json 16.5 145.5 779.5 650.5 0\n",
      "dataset\\annotation_yolo\\00039.json 168.5384615384615 434.6153846153846 657.4807692307692 638.4615384615385 0\n",
      "dataset\\annotation_yolo\\00039.json 229.11538461538464 167.78846153846152 716.1346153846154 498.55769230769226 0\n",
      "dataset\\annotation_yolo\\00039.json 69.0192307692308 130.28846153846155 437.28846153846155 527.4038461538462 0\n",
      "dataset\\annotation_yolo\\00027.json 5.29880478087648 108.16733067729082 310.67729083665336 214.5418326693227 0\n",
      "dataset\\annotation_yolo\\00007.json 59.781931464174505 135.8255451713395 423.6448598130843 392.2118380062305 0\n",
      "dataset\\annotation_yolo\\00004.json 71.22471910112364 178.21348314606743 864.4831460674156 683.8314606741573 0\n",
      "dataset\\annotation_yolo\\00037.json 30.18691588785049 232.08722741433021 183.14641744548288 403.4267912772586 0\n",
      "dataset\\annotation_yolo\\00037.json 138.28660436137073 169.47040498442365 323.0218068535826 366.0436137071651 0\n",
      "dataset\\annotation_yolo\\00037.json 279.40809968847356 107.16510903426794 488.13084112149534 343.3021806853583 0\n",
      "dataset\\annotation_yolo\\00047.json 9.140186915887838 82.61682242990655 230.82242990654203 184.4859813084112 0\n",
      "dataset\\annotation_yolo\\00047.json 102.78504672897193 123.9252336448598 293.99999999999994 213.83177570093457 0\n",
      "dataset\\annotation_yolo\\00014.json 51.94117647058832 124.49019607843132 745.078431372549 725.4705882352941 0\n",
      "dataset\\annotation_yolo\\00000.json 170.0 113.5 385.5 563.5 0\n",
      "dataset\\annotation_yolo\\00000.json 373.5 371.0 682.0 731.0 0\n",
      "dataset\\annotation_yolo\\00021.json 165.58646616541353 358.4060150375939 1026.4887218045112 858.406015037594 0\n",
      "dataset\\annotation_yolo\\00001.json 64.5 224.0 765.0 727.0 0\n",
      "dataset\\annotation_yolo\\00045.json 43.41121495327104 331.7757009345794 346.214953271028 633.1775700934579 0\n",
      "dataset\\annotation_yolo\\00045.json 213.03738317757006 299.99999999999994 533.5981308411215 568.2242990654205 0\n",
      "dataset\\annotation_yolo\\00045.json 222.3831775700935 179.4392523364486 480.3271028037383 370.0934579439252 0\n",
      "dataset\\annotation_yolo\\00045.json 413.03738317757006 188.3177570093457 700.4205607476636 398.5981308411215 0\n",
      "dataset\\annotation_yolo\\00020.json 108.31775700934571 272.8971962616823 1337.289719626168 1155.1401869158879 0\n",
      "dataset\\annotation_yolo\\00003.json 16.125 41.75 526.75 464.25 0\n",
      "dataset\\annotation_yolo\\00003.json 504.25 149.25 987.375 566.125 0\n",
      "dataset\\annotation_yolo\\00003.json 236.75 607.375 788.625 928.625 0\n",
      "dataset\\annotation_yolo\\00022.json 52.410256410256295 213.02564102564102 971.6410256410256 814.9487179487179 0\n",
      "dataset\\annotation_yolo\\00028.json 61.40909090909091 33.863636363636374 439.1363636363636 332.5 0\n",
      "dataset\\annotation_yolo\\00015.json 8.82051282051279 221.3589743589743 982.5384615384614 789.3076923076923 0\n",
      "dataset\\annotation_yolo\\00006.json 114.45864661654133 220.06015037593986 1070.8496240601503 963.6691729323308 0\n",
      "dataset\\annotation_yolo\\00002.json 8.625 198.625 998.0 889.875 0\n"
     ]
    }
   ],
   "metadata": {}
  },
  {
   "cell_type": "markdown",
   "source": [
    "## make dataset"
   ],
   "metadata": {}
  },
  {
   "cell_type": "code",
   "execution_count": 25,
   "source": [
    "# make dataset\r\n",
    "file_List = [\"train\", \"val\", \"test\"]\r\n",
    "for file in file_List:\r\n",
    "    # make dirs if not exist\r\n",
    "    if not os.path.exists('VOC/images/%s' % file):\r\n",
    "        os.makedirs('VOC/images/%s' % file)\r\n",
    "    if not os.path.exists('VOC/labels/%s' % file):\r\n",
    "        os.makedirs('VOC/labels/%s' % file)\r\n",
    "    # 判断tmp里面是否存在train, val, test三个文件夹\r\n",
    "    # 输出->True：存在  False：不存在\r\n",
    "    print(os.path.exists('tmp/%s.txt' % file))\r\n",
    "    # 打开tmp中train, val和test\r\n",
    "    f = open('tmp/%s.txt' % file, 'r')\r\n",
    "    # 读取每个文件夹里面存放的图片地址\r\n",
    "    lines = f.readlines()\r\n",
    "    for line in lines:\r\n",
    "        print(line)\r\n",
    "        # Python join() 方法用于将序列中的元素以指定的字符连接生成一个新的字符串\r\n",
    "        line = \"/\".join(line.split('\\\\')[-3:]).strip()\r\n",
    "        shutil.copy(line, \"VOC/images/%s\" % file)\r\n",
    "        label_path = 'dataset\\\\annotation_yolo'.replace('\\\\', '/')\r\n",
    "        label_fname = line.split('/')[-1].replace('jpg', 'txt').strip()\r\n",
    "        line = label_path + '/' + label_fname\r\n",
    "        shutil.copy(line, \"VOC/labels/%s/\" % file)"
   ],
   "outputs": [
    {
     "output_type": "stream",
     "name": "stdout",
     "text": [
      "True\n",
      "c:\\Users\\Luyixing\\Documents\\2021intern\\proj_mask_rcnn\\dataset\\raw imgs\\00026.jpg\n",
      "\n",
      "c:\\Users\\Luyixing\\Documents\\2021intern\\proj_mask_rcnn\\dataset\\raw imgs\\00011.jpg\n",
      "\n",
      "c:\\Users\\Luyixing\\Documents\\2021intern\\proj_mask_rcnn\\dataset\\raw imgs\\00005.jpg\n",
      "\n",
      "c:\\Users\\Luyixing\\Documents\\2021intern\\proj_mask_rcnn\\dataset\\raw imgs\\00034.jpg\n",
      "\n",
      "c:\\Users\\Luyixing\\Documents\\2021intern\\proj_mask_rcnn\\dataset\\raw imgs\\00029.jpg\n",
      "\n",
      "c:\\Users\\Luyixing\\Documents\\2021intern\\proj_mask_rcnn\\dataset\\raw imgs\\00032.jpg\n",
      "\n",
      "c:\\Users\\Luyixing\\Documents\\2021intern\\proj_mask_rcnn\\dataset\\raw imgs\\00019.jpg\n",
      "\n",
      "c:\\Users\\Luyixing\\Documents\\2021intern\\proj_mask_rcnn\\dataset\\raw imgs\\00012.jpg\n",
      "\n",
      "c:\\Users\\Luyixing\\Documents\\2021intern\\proj_mask_rcnn\\dataset\\raw imgs\\00041.jpg\n",
      "\n",
      "c:\\Users\\Luyixing\\Documents\\2021intern\\proj_mask_rcnn\\dataset\\raw imgs\\00040.jpg\n",
      "\n",
      "c:\\Users\\Luyixing\\Documents\\2021intern\\proj_mask_rcnn\\dataset\\raw imgs\\00016.jpg\n",
      "\n",
      "c:\\Users\\Luyixing\\Documents\\2021intern\\proj_mask_rcnn\\dataset\\raw imgs\\00018.jpg\n",
      "\n",
      "c:\\Users\\Luyixing\\Documents\\2021intern\\proj_mask_rcnn\\dataset\\raw imgs\\00048.jpg\n",
      "\n",
      "c:\\Users\\Luyixing\\Documents\\2021intern\\proj_mask_rcnn\\dataset\\raw imgs\\00033.jpg\n",
      "\n",
      "c:\\Users\\Luyixing\\Documents\\2021intern\\proj_mask_rcnn\\dataset\\raw imgs\\00009.jpg\n",
      "\n",
      "c:\\Users\\Luyixing\\Documents\\2021intern\\proj_mask_rcnn\\dataset\\raw imgs\\00049.jpg\n",
      "\n",
      "c:\\Users\\Luyixing\\Documents\\2021intern\\proj_mask_rcnn\\dataset\\raw imgs\\00031.jpg\n",
      "\n",
      "c:\\Users\\Luyixing\\Documents\\2021intern\\proj_mask_rcnn\\dataset\\raw imgs\\00044.jpg\n",
      "\n",
      "c:\\Users\\Luyixing\\Documents\\2021intern\\proj_mask_rcnn\\dataset\\raw imgs\\00023.jpg\n",
      "\n",
      "c:\\Users\\Luyixing\\Documents\\2021intern\\proj_mask_rcnn\\dataset\\raw imgs\\00008.jpg\n",
      "\n",
      "c:\\Users\\Luyixing\\Documents\\2021intern\\proj_mask_rcnn\\dataset\\raw imgs\\00046.jpg\n",
      "\n",
      "c:\\Users\\Luyixing\\Documents\\2021intern\\proj_mask_rcnn\\dataset\\raw imgs\\00043.jpg\n",
      "\n",
      "c:\\Users\\Luyixing\\Documents\\2021intern\\proj_mask_rcnn\\dataset\\raw imgs\\00036.jpg\n",
      "\n",
      "c:\\Users\\Luyixing\\Documents\\2021intern\\proj_mask_rcnn\\dataset\\raw imgs\\00025.jpg\n",
      "\n",
      "c:\\Users\\Luyixing\\Documents\\2021intern\\proj_mask_rcnn\\dataset\\raw imgs\\00017.jpg\n",
      "\n",
      "c:\\Users\\Luyixing\\Documents\\2021intern\\proj_mask_rcnn\\dataset\\raw imgs\\00010.jpg\n",
      "\n",
      "c:\\Users\\Luyixing\\Documents\\2021intern\\proj_mask_rcnn\\dataset\\raw imgs\\00038.jpg\n",
      "\n",
      "c:\\Users\\Luyixing\\Documents\\2021intern\\proj_mask_rcnn\\dataset\\raw imgs\\00030.jpg\n",
      "\n",
      "c:\\Users\\Luyixing\\Documents\\2021intern\\proj_mask_rcnn\\dataset\\raw imgs\\00013.jpg\n",
      "\n",
      "c:\\Users\\Luyixing\\Documents\\2021intern\\proj_mask_rcnn\\dataset\\raw imgs\\00024.jpg\n",
      "\n",
      "c:\\Users\\Luyixing\\Documents\\2021intern\\proj_mask_rcnn\\dataset\\raw imgs\\00035.jpg\n",
      "\n",
      "c:\\Users\\Luyixing\\Documents\\2021intern\\proj_mask_rcnn\\dataset\\raw imgs\\00050.jpg\n",
      "\n",
      "c:\\Users\\Luyixing\\Documents\\2021intern\\proj_mask_rcnn\\dataset\\raw imgs\\00042.jpg\n",
      "\n",
      "c:\\Users\\Luyixing\\Documents\\2021intern\\proj_mask_rcnn\\dataset\\raw imgs\\00039.jpg\n",
      "\n",
      "c:\\Users\\Luyixing\\Documents\\2021intern\\proj_mask_rcnn\\dataset\\raw imgs\\00027.jpg\n",
      "\n",
      "c:\\Users\\Luyixing\\Documents\\2021intern\\proj_mask_rcnn\\dataset\\raw imgs\\00007.jpg\n",
      "\n",
      "c:\\Users\\Luyixing\\Documents\\2021intern\\proj_mask_rcnn\\dataset\\raw imgs\\00004.jpg\n",
      "\n",
      "c:\\Users\\Luyixing\\Documents\\2021intern\\proj_mask_rcnn\\dataset\\raw imgs\\00037.jpg\n",
      "\n",
      "c:\\Users\\Luyixing\\Documents\\2021intern\\proj_mask_rcnn\\dataset\\raw imgs\\00047.jpg\n",
      "\n",
      "c:\\Users\\Luyixing\\Documents\\2021intern\\proj_mask_rcnn\\dataset\\raw imgs\\00014.jpg\n",
      "\n",
      "True\n",
      "c:\\Users\\Luyixing\\Documents\\2021intern\\proj_mask_rcnn\\dataset\\raw imgs\\00000.jpg\n",
      "\n",
      "c:\\Users\\Luyixing\\Documents\\2021intern\\proj_mask_rcnn\\dataset\\raw imgs\\00021.jpg\n",
      "\n",
      "c:\\Users\\Luyixing\\Documents\\2021intern\\proj_mask_rcnn\\dataset\\raw imgs\\00001.jpg\n",
      "\n",
      "c:\\Users\\Luyixing\\Documents\\2021intern\\proj_mask_rcnn\\dataset\\raw imgs\\00045.jpg\n",
      "\n",
      "c:\\Users\\Luyixing\\Documents\\2021intern\\proj_mask_rcnn\\dataset\\raw imgs\\00020.jpg\n",
      "\n",
      "True\n",
      "c:\\Users\\Luyixing\\Documents\\2021intern\\proj_mask_rcnn\\dataset\\raw imgs\\00003.jpg\n",
      "\n",
      "c:\\Users\\Luyixing\\Documents\\2021intern\\proj_mask_rcnn\\dataset\\raw imgs\\00022.jpg\n",
      "\n",
      "c:\\Users\\Luyixing\\Documents\\2021intern\\proj_mask_rcnn\\dataset\\raw imgs\\00028.jpg\n",
      "\n",
      "c:\\Users\\Luyixing\\Documents\\2021intern\\proj_mask_rcnn\\dataset\\raw imgs\\00015.jpg\n",
      "\n",
      "c:\\Users\\Luyixing\\Documents\\2021intern\\proj_mask_rcnn\\dataset\\raw imgs\\00006.jpg\n",
      "\n",
      "c:\\Users\\Luyixing\\Documents\\2021intern\\proj_mask_rcnn\\dataset\\raw imgs\\00002.jpg\n",
      "\n"
     ]
    }
   ],
   "metadata": {}
  },
  {
   "cell_type": "markdown",
   "source": [
    "## dataset info"
   ],
   "metadata": {}
  },
  {
   "cell_type": "code",
   "execution_count": 27,
   "source": [
    "train_set = r'VOC\\images\\train'\r\n",
    "val_set = r'VOC\\images\\val'\r\n",
    "test_set = r'VOC\\images\\test'\r\n",
    "\r\n",
    "dataset_list = [train_set, val_set, test_set]\r\n",
    "\r\n",
    "for dset in dataset_list:\r\n",
    "    print(str(dset), ':' , len(os.listdir(dset)))"
   ],
   "outputs": [
    {
     "output_type": "stream",
     "name": "stdout",
     "text": [
      "VOC\\images\\train : 40\n",
      "VOC\\images\\val : 5\n",
      "VOC\\images\\test : 6\n"
     ]
    }
   ],
   "metadata": {}
  },
  {
   "cell_type": "code",
   "execution_count": null,
   "source": [],
   "outputs": [],
   "metadata": {}
  }
 ]
}